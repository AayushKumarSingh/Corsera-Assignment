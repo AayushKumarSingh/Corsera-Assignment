{
  "nbformat": 4,
  "nbformat_minor": 0,
  "metadata": {
    "colab": {
      "provenance": [],
      "authorship_tag": "ABX9TyOQFe5RgrZSLQDJ5Um0DO8j",
      "include_colab_link": true
    },
    "kernelspec": {
      "name": "python3",
      "display_name": "Python 3"
    },
    "language_info": {
      "name": "python"
    }
  },
  "cells": [
    {
      "cell_type": "markdown",
      "metadata": {
        "id": "view-in-github",
        "colab_type": "text"
      },
      "source": [
        "<a href=\"https://colab.research.google.com/github/AayushKumarSingh/Corsera-Assignment/blob/main/Coursra_Assignment.ipynb\" target=\"_parent\"><img src=\"https://colab.research.google.com/assets/colab-badge.svg\" alt=\"Open In Colab\"/></a>"
      ]
    },
    {
      "cell_type": "markdown",
      "source": [
        "#Coursera Assignment"
      ],
      "metadata": {
        "id": "9Cxa7uT-doMR"
      }
    },
    {
      "cell_type": "markdown",
      "source": [
        "This notebook is created for completing the coursera assignment"
      ],
      "metadata": {
        "id": "_TH6FgujeI1c"
      }
    },
    {
      "cell_type": "markdown",
      "source": [
        "Popuar languages used in data science are :-\n",
        "\n",
        "\n",
        "1.   Python\n",
        "2.   R\n",
        "3.   Sql\n",
        "4.   scala\n",
        "5.   julia\n",
        "\n"
      ],
      "metadata": {
        "id": "pysXQGySerjO"
      }
    },
    {
      "cell_type": "markdown",
      "source": [
        "Popular Libraries used in data science are :-\n",
        "\n",
        "\n",
        "1.   Tensorflw\n",
        "2.   nummpy\n",
        "3.   PyTorch\n",
        "4.   pandas\n",
        "5.   keras\n",
        "6.   scipy\n",
        "\n"
      ],
      "metadata": {
        "id": "9XFK2JpOe1xc"
      }
    },
    {
      "cell_type": "markdown",
      "source": [
        "\n",
        "| Data Science Tools |\n",
        "|---------|\n",
        "| Python |\n",
        "| Rstudio |\n",
        "| Jupyter or anaconda |\n",
        "| Apache Spark |\n",
        "| Watson studio |\n",
        "| Spyder |"
      ],
      "metadata": {
        "id": "sj58p9udhUBO"
      }
    },
    {
      "cell_type": "markdown",
      "source": [
        "Arithmetic is the fundamental of mathematics that includes the operations of numbers.\n",
        "\n",
        "Ex :\n",
        "\n",
        "     1. Y = mX + b,\n",
        "     2. 4x - 2y = 5.\n",
        "\n",
        "Following code cells are example of arthemetic operations on python"
      ],
      "metadata": {
        "id": "fL0W9M3fja_-"
      }
    },
    {
      "cell_type": "code",
      "source": [
        "#python code to show addition and mutiplication of integers\n",
        "print(\"Result = \", (4 * 3) + 5)"
      ],
      "metadata": {
        "colab": {
          "base_uri": "https://localhost:8080/"
        },
        "id": "vjf_cZ5rdr0d",
        "outputId": "b810fc91-4095-47c3-d62a-4bd7a0ff896d"
      },
      "execution_count": 1,
      "outputs": [
        {
          "output_type": "stream",
          "name": "stdout",
          "text": [
            "Result =  17\n"
          ]
        }
      ]
    },
    {
      "cell_type": "code",
      "source": [
        "#python code to show conversion of minutes into hours\n",
        "_mins = 200\n",
        "\n",
        "_hours = (_mins / 60)\n",
        "print(f\"{_mins} mins is equal to {_hours:.2f} hrs\")"
      ],
      "metadata": {
        "colab": {
          "base_uri": "https://localhost:8080/"
        },
        "id": "d0Syci43kVer",
        "outputId": "20822aa2-8d1a-4625-816f-97252dc8a71f"
      },
      "execution_count": 5,
      "outputs": [
        {
          "output_type": "stream",
          "name": "stdout",
          "text": [
            "200 mins is equal to 3.33 hrs\n"
          ]
        }
      ]
    },
    {
      "cell_type": "markdown",
      "source": [
        "**Objectives:**\n",
        "\n",
        "* Give a title to project\n",
        "* Give introduction for project\n",
        "* Give a list of popular data science languages\n",
        "* popular libraries used in Data Science\n",
        "* create a table of DataScience tools\n",
        "* Introduction to arthimetic operations:\n",
        "* python code to calculate sum and product of numbers\n",
        "* python code to Convert minutes to hours"
      ],
      "metadata": {
        "id": "KFwbSTDai-qX"
      }
    },
    {
      "cell_type": "markdown",
      "source": [
        "##**Author Name**\n",
        "\n",
        " Aayush kumar singh"
      ],
      "metadata": {
        "id": "I7sGD16BkroF"
      }
    }
  ]
}