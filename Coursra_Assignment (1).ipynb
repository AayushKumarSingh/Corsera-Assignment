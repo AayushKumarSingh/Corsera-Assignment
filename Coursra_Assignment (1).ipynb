{
  "nbformat": 4,
  "nbformat_minor": 0,
  "metadata": {
    "colab": {
      "provenance": []
    },
    "kernelspec": {
      "name": "python3",
      "display_name": "Python 3"
    },
    "language_info": {
      "name": "python"
    }
  },
  "cells": [
    {
      "cell_type": "markdown",
      "source": [
        "#Coursera Assignment"
      ],
      "metadata": {
        "id": "9Cxa7uT-doMR"
      }
    },
    {
      "cell_type": "markdown",
      "source": [
        "This notebook is created for completing the coursera assignment"
      ],
      "metadata": {
        "id": "_TH6FgujeI1c"
      }
    },
    {
      "cell_type": "markdown",
      "source": [
        "Popuar Data Science languages are :-\n",
        "\n",
        "\n",
        "1.   Python\n",
        "2.   R\n",
        "3.   Sql\n",
        "4.   scala\n",
        "\n"
      ],
      "metadata": {
        "id": "pysXQGySerjO"
      }
    },
    {
      "cell_type": "markdown",
      "source": [
        "Popular Libraries used in data science are :-\n",
        "\n",
        "\n",
        "1.   Tensorflow\n",
        "2.   numpy\n",
        "3.   PyTorch\n",
        "4.   pandas\n",
        "5.   caret\n",
        "\n"
      ],
      "metadata": {
        "id": "9XFK2JpOe1xc"
      }
    },
    {
      "cell_type": "markdown",
      "source": [
        "\n",
        "| Data Science Tools |\n",
        "|---------|\n",
        "| Rstudio |\n",
        "| Python |\n",
        "| Apache Spark |\n",
        "| Watson studio |\n",
        "| Github |"
      ],
      "metadata": {
        "id": "sj58p9udhUBO"
      }
    },
    {
      "cell_type": "markdown",
      "source": [
        "Arithmetic is the fundamental of mathematics that includes the operations of numbers.\n",
        "\n",
        "Ex : Y = mX + b, 4x - 2y = 5."
      ],
      "metadata": {
        "id": "fL0W9M3fja_-"
      }
    },
    {
      "cell_type": "code",
      "source": [
        "num1 = 10\n",
        "num2 = 20\n",
        "\n",
        "print(f\"Multiplication of numbers is {num1 * num2}\")\n",
        "print(f\"Addition of numbers is {num1 + num2}\")"
      ],
      "metadata": {
        "colab": {
          "base_uri": "https://localhost:8080/"
        },
        "id": "vjf_cZ5rdr0d",
        "outputId": "c2993611-22d4-4a97-966b-82cab8d0f650"
      },
      "execution_count": 1,
      "outputs": [
        {
          "output_type": "stream",
          "name": "stdout",
          "text": [
            "Multiplication of numbers is 200\n",
            "Addition of numbers is 30\n"
          ]
        }
      ]
    },
    {
      "cell_type": "code",
      "source": [
        "mins = 240\n",
        "\n",
        "hours = (mins // 60)\n",
        "hours"
      ],
      "metadata": {
        "colab": {
          "base_uri": "https://localhost:8080/"
        },
        "id": "d0Syci43kVer",
        "outputId": "ad090b97-c6d8-4f12-9978-c1b88431d072"
      },
      "execution_count": 3,
      "outputs": [
        {
          "output_type": "execute_result",
          "data": {
            "text/plain": [
              "4"
            ]
          },
          "metadata": {},
          "execution_count": 3
        }
      ]
    },
    {
      "cell_type": "markdown",
      "source": [
        "Objectives:\n",
        "\n",
        "* Popular DataScience Languages\n",
        "* Libraries used in Data Science\n",
        "* DataScience tools\n",
        "* Basic operations in python :\n",
        " * Arithmetic calculations\n",
        " * Conversion of minutes to hours"
      ],
      "metadata": {
        "id": "KFwbSTDai-qX"
      }
    },
    {
      "cell_type": "markdown",
      "source": [
        "Created by Aayush kumar singh"
      ],
      "metadata": {
        "id": "I7sGD16BkroF"
      }
    }
  ]
}